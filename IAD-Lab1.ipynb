{
 "cells": [
  {
   "cell_type": "code",
   "execution_count": 316,
   "id": "232c8288-db89-438a-993d-1a84e047b9e9",
   "metadata": {},
   "outputs": [
    {
     "name": "stdout",
     "output_type": "stream",
     "text": [
      "Collecting scipy\n",
      "  Downloading scipy-1.14.1-cp312-cp312-win_amd64.whl.metadata (60 kB)\n",
      "Requirement already satisfied: numpy<2.3,>=1.23.5 in c:\\python\\lib\\site-packages (from scipy) (2.1.1)\n",
      "Downloading scipy-1.14.1-cp312-cp312-win_amd64.whl (44.5 MB)\n",
      "   ---------------------------------------- 0.0/44.5 MB ? eta -:--:--\n",
      "   --- ------------------------------------ 4.2/44.5 MB 27.9 MB/s eta 0:00:02\n",
      "   ------------- -------------------------- 15.2/44.5 MB 41.5 MB/s eta 0:00:01\n",
      "   ------------------------- -------------- 28.6/44.5 MB 50.3 MB/s eta 0:00:01\n",
      "   -------------------------------------- - 42.5/44.5 MB 55.1 MB/s eta 0:00:01\n",
      "   ---------------------------------------- 44.5/44.5 MB 51.5 MB/s eta 0:00:00\n",
      "Installing collected packages: scipy\n",
      "Successfully installed scipy-1.14.1\n",
      "Note: you may need to restart the kernel to use updated packages.\n"
     ]
    }
   ],
   "source": [
    "pip install scipy"
   ]
  },
  {
   "cell_type": "markdown",
   "id": "a0e815ca-8053-4233-8352-145e56294736",
   "metadata": {},
   "source": [
    "## 1. Нехай x = np.array([[1,2,3], [4,5,6]]), w = np.array([10,20]). Додати вектор w до кожного стовпчика матрицi x."
   ]
  },
  {
   "cell_type": "code",
   "execution_count": 5,
   "id": "0c50d45f-ad1d-438e-a07a-0275223b8fc2",
   "metadata": {},
   "outputs": [
    {
     "name": "stdout",
     "output_type": "stream",
     "text": [
      "[[11 12 13]\n",
      " [24 25 26]]\n"
     ]
    }
   ],
   "source": [
    "x = np.array([[1,2,3], [4,5,6]])\n",
    "w = np.array([10,20])\n",
    "print(x + w[:,np.newaxis])"
   ]
  },
  {
   "cell_type": "markdown",
   "id": "4bce1f6d-e170-4b17-a0b4-3901d8052d04",
   "metadata": {},
   "source": [
    "### 2. Як створити об’єкт DataFrame засобами бiблiотеки Pandas?"
   ]
  },
  {
   "cell_type": "code",
   "execution_count": 6,
   "id": "6a21960e-12cc-4f77-9be4-a1afc4a4b631",
   "metadata": {},
   "outputs": [],
   "source": [
    "import pandas as pd"
   ]
  },
  {
   "cell_type": "code",
   "execution_count": 7,
   "id": "373f6d33-572f-40eb-bf5f-7a3d57469352",
   "metadata": {},
   "outputs": [],
   "source": [
    "x = np.array([[1,2,3], [4,5,6]])\n",
    "w = np.array([10,20])"
   ]
  },
  {
   "cell_type": "code",
   "execution_count": 149,
   "id": "eecb7aa9-6fe7-418b-9cf0-4537f9281a64",
   "metadata": {},
   "outputs": [
    {
     "data": {
      "text/plain": [
       "0    10\n",
       "1    20\n",
       "dtype: int64"
      ]
     },
     "execution_count": 149,
     "metadata": {},
     "output_type": "execute_result"
    }
   ],
   "source": [
    "data1 = pd.Series(w)\n",
    "data1"
   ]
  },
  {
   "cell_type": "code",
   "execution_count": 148,
   "id": "875a96f4-82c4-43b5-b4c1-900fe4ff1fec",
   "metadata": {},
   "outputs": [
    {
     "data": {
      "text/html": [
       "<div>\n",
       "<style scoped>\n",
       "    .dataframe tbody tr th:only-of-type {\n",
       "        vertical-align: middle;\n",
       "    }\n",
       "\n",
       "    .dataframe tbody tr th {\n",
       "        vertical-align: top;\n",
       "    }\n",
       "\n",
       "    .dataframe thead th {\n",
       "        text-align: right;\n",
       "    }\n",
       "</style>\n",
       "<table border=\"1\" class=\"dataframe\">\n",
       "  <thead>\n",
       "    <tr style=\"text-align: right;\">\n",
       "      <th></th>\n",
       "      <th>name</th>\n",
       "      <th>age</th>\n",
       "      <th>weight</th>\n",
       "    </tr>\n",
       "  </thead>\n",
       "  <tbody>\n",
       "    <tr>\n",
       "      <th>0</th>\n",
       "      <td>Rex</td>\n",
       "      <td>9</td>\n",
       "      <td>81.0</td>\n",
       "    </tr>\n",
       "    <tr>\n",
       "      <th>1</th>\n",
       "      <td>Fido</td>\n",
       "      <td>3</td>\n",
       "      <td>27.0</td>\n",
       "    </tr>\n",
       "  </tbody>\n",
       "</table>\n",
       "</div>"
      ],
      "text/plain": [
       "   name  age  weight\n",
       "0   Rex    9    81.0\n",
       "1  Fido    3    27.0"
      ]
     },
     "execution_count": 148,
     "metadata": {},
     "output_type": "execute_result"
    }
   ],
   "source": [
    "data2 = pd.DataFrame(x)\n",
    "data2"
   ]
  },
  {
   "cell_type": "markdown",
   "id": "dcfb6111-5464-41df-963b-651068e28198",
   "metadata": {},
   "source": [
    "## 3. Дано масив, який складається з 10 рядкiв, якi вiдповiдають прикладам, i чотирьох стовпчикiв, що вiдповiдають ознакам. Для кожного прикладу розрахувати середнє значення за кожною з ознак."
   ]
  },
  {
   "cell_type": "code",
   "execution_count": 66,
   "id": "4edacb16-e3a7-45b6-90e6-57e0b57bf9fa",
   "metadata": {},
   "outputs": [
    {
     "data": {
      "text/plain": [
       "array([[0, 0, 0, 1],\n",
       "       [1, 0, 0, 0],\n",
       "       [1, 1, 0, 1],\n",
       "       [0, 0, 1, 1],\n",
       "       [0, 1, 0, 0],\n",
       "       [1, 1, 1, 0],\n",
       "       [0, 0, 1, 0],\n",
       "       [0, 0, 0, 1],\n",
       "       [1, 0, 1, 1],\n",
       "       [0, 0, 0, 0]], dtype=int32)"
      ]
     },
     "execution_count": 66,
     "metadata": {},
     "output_type": "execute_result"
    }
   ],
   "source": [
    "data3= np.random.randint(0,2, size = (10, 4))\n",
    "data3"
   ]
  },
  {
   "cell_type": "code",
   "execution_count": 69,
   "id": "3d55c79c-7024-41c3-8e83-6b19a538cc95",
   "metadata": {},
   "outputs": [
    {
     "data": {
      "text/plain": [
       "array([0.4, 0.3, 0.4, 0.5])"
      ]
     },
     "execution_count": 69,
     "metadata": {},
     "output_type": "execute_result"
    }
   ],
   "source": [
    "m = np.mean(data3, axis = 0)\n",
    "m"
   ]
  },
  {
   "attachments": {},
   "cell_type": "markdown",
   "id": "0f21907c-cd3a-4f10-941e-773a01f40c2d",
   "metadata": {},
   "source": [
    "### 4. Дано масив, який складається з 10 рядкiв, якi вiдповiдають прикладам, i чотирьох стовпчикiв, що вiдповiдають ознакам. Чи є в масивi якi-небудь значення, якi перевищують 7?"
   ]
  },
  {
   "cell_type": "code",
   "execution_count": 70,
   "id": "085f23e0-51b3-40ba-8912-bd4664406913",
   "metadata": {},
   "outputs": [
    {
     "data": {
      "text/plain": [
       "array([[7, 9, 2, 5],\n",
       "       [2, 1, 0, 4],\n",
       "       [6, 6, 8, 7],\n",
       "       [7, 8, 1, 1],\n",
       "       [7, 2, 0, 3],\n",
       "       [7, 1, 6, 7],\n",
       "       [2, 8, 4, 7],\n",
       "       [5, 2, 4, 8],\n",
       "       [4, 3, 6, 1],\n",
       "       [5, 9, 9, 3]], dtype=int32)"
      ]
     },
     "execution_count": 70,
     "metadata": {},
     "output_type": "execute_result"
    }
   ],
   "source": [
    "data4 = np.random.randint(0,10,size=(10,4))\n",
    "data4"
   ]
  },
  {
   "cell_type": "code",
   "execution_count": 109,
   "id": "58d3dfaf-ae01-4755-a4a3-3507c977bfe4",
   "metadata": {},
   "outputs": [
    {
     "name": "stdout",
     "output_type": "stream",
     "text": [
      "yes\n"
     ]
    }
   ],
   "source": [
    "grater_than_7 = np.any(data4>7)\n",
    "if grater_than_7: print(\"yes\")"
   ]
  },
  {
   "cell_type": "markdown",
   "id": "24a1e6d8-3531-4062-b42f-a44909b3f5bf",
   "metadata": {},
   "source": [
    "### 5. Дано масив, який складається з 10 рядкiв, якi вiдповiдають прикладам, i чотирьох стовпчикiв, що вiдповiдають ознакам. Скiльки значень менше нуля є в кожному рядку цього масиву?"
   ]
  },
  {
   "cell_type": "code",
   "execution_count": 145,
   "id": "4f864ed4-49f6-4dc7-8cc9-924e348095d2",
   "metadata": {},
   "outputs": [
    {
     "name": "stdout",
     "output_type": "stream",
     "text": [
      "[[ -7   6  -4  -2]\n",
      " [ -5  -4  -3  -5]\n",
      " [  3  -4   7   4]\n",
      " [  5   3   0  -6]\n",
      " [  8   4   0   2]\n",
      " [  0   7  -1  -7]\n",
      " [ -8   6   3   5]\n",
      " [ -2  -1  -5   1]\n",
      " [ -4   0   1   5]\n",
      " [  1  -5  -9 -10]]\n"
     ]
    }
   ],
   "source": [
    "data5 = np.random.randint(-10, 10, size=(10,4))\n",
    "print(data5)"
   ]
  },
  {
   "cell_type": "code",
   "execution_count": 144,
   "id": "b83dfd18-5cd0-4752-8e70-1306ed7b5c57",
   "metadata": {},
   "outputs": [
    {
     "name": "stdout",
     "output_type": "stream",
     "text": [
      "[2 1 2 4 2 3 1 2 1 1]\n"
     ]
    }
   ],
   "source": [
    "less_than_zero = np.sum(data5<0, axis = 1)\n",
    "print(less_than_zero)"
   ]
  },
  {
   "cell_type": "code",
   "execution_count": 252,
   "id": "d6af98d0-bbcd-46a8-adb3-169c1a828318",
   "metadata": {},
   "outputs": [
    {
     "name": "stdout",
     "output_type": "stream",
     "text": [
      "for row 1 elements: 2\n",
      "for row 2 elements: 1\n",
      "for row 3 elements: 2\n",
      "for row 4 elements: 4\n",
      "for row 5 elements: 2\n",
      "for row 6 elements: 3\n",
      "for row 7 elements: 1\n",
      "for row 8 elements: 2\n",
      "for row 9 elements: 1\n",
      "for row 10 elements: 1\n"
     ]
    }
   ],
   "source": [
    "for el in range(less_than_zero.shape[0]):\n",
    "    print(\"for row\", el+1, \"elements:\", less_than_zero[el]) "
   ]
  },
  {
   "cell_type": "code",
   "execution_count": 151,
   "id": "9ecc3bb6-8362-4fe9-8656-a45e75e63a74",
   "metadata": {},
   "outputs": [
    {
     "data": {
      "text/plain": [
       "array([('Rex', 9, 81.), ('Fido', 3, 27.)],\n",
       "      dtype=[('name', '<U10'), ('age', '<i4'), ('weight', '<f4')])"
      ]
     },
     "execution_count": 151,
     "metadata": {},
     "output_type": "execute_result"
    }
   ],
   "source": [
    "x = np.array([('Rex', 9, 81.0), ('Fido', 3, 27.0)],\n",
    "           dtype=[('name', 'U10'), ('age', 'i4'), ('weight', 'f4')])\n",
    "x"
   ]
  },
  {
   "cell_type": "code",
   "execution_count": 143,
   "id": "7ef4b488-19bc-4f2c-b710-c1fdc79d03b8",
   "metadata": {},
   "outputs": [
    {
     "name": "stdout",
     "output_type": "stream",
     "text": [
      "('Fido', 3, 27.0)\n"
     ]
    }
   ],
   "source": [
    "print(x[1])"
   ]
  },
  {
   "cell_type": "code",
   "execution_count": 152,
   "id": "608b9fa3-6496-46b7-9836-0624bba9bef1",
   "metadata": {},
   "outputs": [
    {
     "data": {
      "text/plain": [
       "array([81., 27.], dtype=float32)"
      ]
     },
     "execution_count": 152,
     "metadata": {},
     "output_type": "execute_result"
    }
   ],
   "source": [
    "x['weight']"
   ]
  },
  {
   "cell_type": "code",
   "execution_count": 141,
   "id": "1276e6c6-9e88-4106-bd74-e6a1ad4025d2",
   "metadata": {},
   "outputs": [
    {
     "data": {
      "text/html": [
       "<div>\n",
       "<style scoped>\n",
       "    .dataframe tbody tr th:only-of-type {\n",
       "        vertical-align: middle;\n",
       "    }\n",
       "\n",
       "    .dataframe tbody tr th {\n",
       "        vertical-align: top;\n",
       "    }\n",
       "\n",
       "    .dataframe thead th {\n",
       "        text-align: right;\n",
       "    }\n",
       "</style>\n",
       "<table border=\"1\" class=\"dataframe\">\n",
       "  <thead>\n",
       "    <tr style=\"text-align: right;\">\n",
       "      <th></th>\n",
       "      <th>name</th>\n",
       "      <th>age</th>\n",
       "      <th>weight</th>\n",
       "    </tr>\n",
       "  </thead>\n",
       "  <tbody>\n",
       "    <tr>\n",
       "      <th>0</th>\n",
       "      <td>Rex</td>\n",
       "      <td>9</td>\n",
       "      <td>81.0</td>\n",
       "    </tr>\n",
       "    <tr>\n",
       "      <th>1</th>\n",
       "      <td>Fido</td>\n",
       "      <td>3</td>\n",
       "      <td>27.0</td>\n",
       "    </tr>\n",
       "  </tbody>\n",
       "</table>\n",
       "</div>"
      ],
      "text/plain": [
       "   name  age  weight\n",
       "0   Rex    9    81.0\n",
       "1  Fido    3    27.0"
      ]
     },
     "execution_count": 141,
     "metadata": {},
     "output_type": "execute_result"
    }
   ],
   "source": [
    "data6=pd.DataFrame(x)\n",
    "data6"
   ]
  },
  {
   "cell_type": "code",
   "execution_count": 157,
   "id": "a793fa08-b4de-49cd-aac5-b5bdb60f2597",
   "metadata": {},
   "outputs": [
    {
     "data": {
      "text/plain": [
       "dtype([('x', '<f4'), ('y', '<f4'), ('z', '<f4', (2, 2))])"
      ]
     },
     "execution_count": 157,
     "metadata": {},
     "output_type": "execute_result"
    }
   ],
   "source": [
    "np.dtype([('x', 'f4'), ('y', np.float32), ('z', 'f4', (2, 2))])"
   ]
  },
  {
   "cell_type": "code",
   "execution_count": 158,
   "id": "2a68f2ee-8c5e-4a93-be21-f6698a149d6e",
   "metadata": {},
   "outputs": [
    {
     "data": {
      "text/plain": [
       "dtype([('x', '<f4'), ('f1', '<i4'), ('z', '<i8')])"
      ]
     },
     "execution_count": 158,
     "metadata": {},
     "output_type": "execute_result"
    }
   ],
   "source": [
    "np.dtype([('x', 'f4'), ('', 'i4'), ('z', 'i8')])"
   ]
  },
  {
   "cell_type": "code",
   "execution_count": 160,
   "id": "5629e394-7a24-4bbc-a82c-084b7866b1e7",
   "metadata": {},
   "outputs": [
    {
     "data": {
      "text/plain": [
       "dtype([('f0', '<i8'), ('f1', '<f4'), ('f2', 'S3')])"
      ]
     },
     "execution_count": 160,
     "metadata": {},
     "output_type": "execute_result"
    }
   ],
   "source": [
    "np.dtype('i8, f4, S3')"
   ]
  },
  {
   "cell_type": "code",
   "execution_count": 161,
   "id": "cca08433-34c3-4629-82fc-b59355e4d737",
   "metadata": {},
   "outputs": [
    {
     "data": {
      "text/plain": [
       "dtype({'names': ['col1', 'col2'], 'formats': ['<i4', '<f4'], 'offsets': [0, 4], 'itemsize': 12})"
      ]
     },
     "execution_count": 161,
     "metadata": {},
     "output_type": "execute_result"
    }
   ],
   "source": [
    "np.dtype({'names': ['col1', 'col2'],\n",
    "           'formats': ['i4', 'f4'],\n",
    "           'offsets': [0, 4],\n",
    "     'itemsize': 12})"
   ]
  },
  {
   "cell_type": "code",
   "execution_count": 162,
   "id": "1ae4d4d4-5281-4db4-bd15-f10bc5808839",
   "metadata": {},
   "outputs": [
    {
     "name": "stdout",
     "output_type": "stream",
     "text": [
      "[('John', 25, 70.5) ('Alice', 30, 65. ) ('Bob', 22, 80.2)]\n",
      "Імена: ['John' 'Alice' 'Bob']\n",
      "Вік: [25 30 22]\n",
      "Вага: [70.5 65.  80.2]\n"
     ]
    }
   ],
   "source": [
    "import numpy as np\n",
    "\n",
    "# Визначаємо структуру масиву: три поля — 'name' (рядок), 'age' (ціле число), 'weight' (число з плаваючою комою)\n",
    "dtype = [('name', 'U10'), ('age', 'i4'), ('weight', 'f4')]\n",
    "\n",
    "# Створюємо масив із заданою структурою\n",
    "data = np.array([('John', 25, 70.5), \n",
    "                 ('Alice', 30, 65.0), \n",
    "                 ('Bob', 22, 80.2)], dtype=dtype)\n",
    "\n",
    "# Виводимо масив\n",
    "print(data)\n",
    "\n",
    "# Доступ до окремих полів\n",
    "print(\"Імена:\", data['name'])\n",
    "print(\"Вік:\", data['age'])\n",
    "print(\"Вага:\", data['weight'])\n"
   ]
  },
  {
   "cell_type": "markdown",
   "id": "fddb5719-3b8a-4245-9321-b321bd7abb51",
   "metadata": {},
   "source": [
    "### 7. Задано одновимiрний масив А i двовимiрний масив B. Як можна виконати їх об’єднання, використовуючи numpy.concatenate? Навести приклади."
   ]
  },
  {
   "cell_type": "code",
   "execution_count": 214,
   "id": "8950e195-d09e-4301-af53-cfb3ab1b3000",
   "metadata": {},
   "outputs": [
    {
     "name": "stdout",
     "output_type": "stream",
     "text": [
      "Array A1: \n",
      " [2 4 1 4 4]\n",
      "Array B1: \n",
      " [[4 3 3 2 2]\n",
      " [2 2 2 3 0]\n",
      " [4 3 3 3 0]\n",
      " [1 3 1 0 0]] \n",
      "\n"
     ]
    },
    {
     "data": {
      "text/plain": [
       "array([[2, 4, 1, 4, 4],\n",
       "       [4, 3, 3, 2, 2],\n",
       "       [2, 2, 2, 3, 0],\n",
       "       [4, 3, 3, 3, 0],\n",
       "       [1, 3, 1, 0, 0]], dtype=int32)"
      ]
     },
     "execution_count": 214,
     "metadata": {},
     "output_type": "execute_result"
    }
   ],
   "source": [
    "A1 = np.random.randint(0,5, size = (5))\n",
    "print(\"Array A1: \\n\", A1)\n",
    "B1 = np.random.randint(0,5, size = (4,5))\n",
    "print(\"Array B1: \\n\", B1, \"\\n\")\n",
    "A1_reshaped = A1[np.newaxis, :]\n",
    "# Об'єднання вздовж осі 0 (по рядках)\n",
    "result1 = np.concatenate((A1_reshaped, B1), axis=0)\n",
    "result1"
   ]
  },
  {
   "cell_type": "code",
   "execution_count": 216,
   "id": "496f12c6-2cf2-4448-adea-c83946058010",
   "metadata": {},
   "outputs": [
    {
     "name": "stdout",
     "output_type": "stream",
     "text": [
      "Array A2: \n",
      " [0 4 0]\n",
      "Array B2: \n",
      " [[0 1]\n",
      " [0 0]\n",
      " [2 4]] \n",
      "\n"
     ]
    },
    {
     "data": {
      "text/plain": [
       "array([[0, 0, 1],\n",
       "       [4, 0, 0],\n",
       "       [0, 2, 4]], dtype=int32)"
      ]
     },
     "execution_count": 216,
     "metadata": {},
     "output_type": "execute_result"
    }
   ],
   "source": [
    "A2 = np.random.randint(0, 5, size = (3))\n",
    "print(\"Array A2: \\n\", A2)\n",
    "B2 = np.random.randint(0, 5, size = (3, 2))\n",
    "print(\"Array B2: \\n\", B2, \"\\n\")\n",
    "# Об'єднання вздовж осі 1\n",
    "A2_reshaped = A2[:, np.newaxis]\n",
    "result2 = np.concatenate((A2_reshaped, B2), axis = 1)\n",
    "result2"
   ]
  },
  {
   "cell_type": "markdown",
   "id": "81b9cf84-122f-4525-bd70-b740f8902555",
   "metadata": {},
   "source": [
    "### 8. Задати двовимiрний масив. Вибрати елементи iз середини цього масиву."
   ]
  },
  {
   "cell_type": "code",
   "execution_count": 568,
   "id": "cb420bc2-b974-4a49-b9ee-195381c5bd70",
   "metadata": {},
   "outputs": [
    {
     "data": {
      "text/plain": [
       "array([[1, 1, 0, 0],\n",
       "       [1, 0, 0, 0],\n",
       "       [1, 1, 0, 1],\n",
       "       [1, 1, 1, 1]], dtype=int32)"
      ]
     },
     "execution_count": 568,
     "metadata": {},
     "output_type": "execute_result"
    }
   ],
   "source": [
    "A = np.random.randint(0,2, size = (4,4))\n",
    "A"
   ]
  },
  {
   "cell_type": "code",
   "execution_count": 569,
   "id": "56417d06-1ecd-40da-abed-0cd7aa2f81eb",
   "metadata": {},
   "outputs": [
    {
     "data": {
      "text/plain": [
       "4"
      ]
     },
     "execution_count": 569,
     "metadata": {},
     "output_type": "execute_result"
    }
   ],
   "source": [
    "middle_shape_columns = np.shape(A)[0]\n",
    "middle_shape_columns"
   ]
  },
  {
   "cell_type": "code",
   "execution_count": 570,
   "id": "338d5070-b857-40a2-b815-72fbfb64f9f4",
   "metadata": {},
   "outputs": [
    {
     "data": {
      "text/plain": [
       "4"
      ]
     },
     "execution_count": 570,
     "metadata": {},
     "output_type": "execute_result"
    }
   ],
   "source": [
    "middle_shape_rows = np.shape(A)[1]\n",
    "middle_shape_rows"
   ]
  },
  {
   "cell_type": "code",
   "execution_count": 571,
   "id": "bc81946e-0ef8-4a9e-a28d-0303d4f34201",
   "metadata": {},
   "outputs": [
    {
     "name": "stdout",
     "output_type": "stream",
     "text": [
      "[[0 0 0]\n",
      " [1 0 1]\n",
      " [1 1 1]]\n"
     ]
    }
   ],
   "source": [
    "middle_elements = A[1:middle_shape_rows, 1:middle_shape_columns]\n",
    "print(middle_elements)"
   ]
  },
  {
   "cell_type": "code",
   "execution_count": null,
   "id": "6e6d96ae-19e5-46fd-a0ac-475aa5acb624",
   "metadata": {},
   "outputs": [],
   "source": []
  },
  {
   "cell_type": "markdown",
   "id": "9d7cbd5c-10ba-45cf-b9ca-d6e1d529f93b",
   "metadata": {},
   "source": [
    "### 9. Задати масив розмiрностi 5 x 10. Знайти мiнiмальний i максимальний елементи у всьому масивi та у кожному стовпчику."
   ]
  },
  {
   "cell_type": "code",
   "execution_count": 268,
   "id": "163c4bfe-7e49-4ca0-a645-8b7ae3274eed",
   "metadata": {},
   "outputs": [
    {
     "data": {
      "text/plain": [
       "array([[  8,  -3, -10,   9,   1,   6,  -3,   1,   2,  -9],\n",
       "       [ -4,   0,   4,   2, -10,  -1,  -3, -10,   8,   0],\n",
       "       [-10,  -8,   5,  -7,  -2,  -1,  -5,  -4,   6,  -1],\n",
       "       [-10,  -7,   6,   2,  -4,   6,  -4,   1, -10,  -3],\n",
       "       [ -1,   6, -10,  -9,   2,   3,   7,   8,  -5,   5]], dtype=int32)"
      ]
     },
     "execution_count": 268,
     "metadata": {},
     "output_type": "execute_result"
    }
   ],
   "source": [
    "A = np.random.randint(-10,10, size = (5,10))\n",
    "A"
   ]
  },
  {
   "cell_type": "code",
   "execution_count": 269,
   "id": "e41ca78c-4239-4d73-ad93-86b4b210d921",
   "metadata": {},
   "outputs": [
    {
     "name": "stdout",
     "output_type": "stream",
     "text": [
      "min element fo the array A:  -10\n",
      "min element fo the array A:  9\n"
     ]
    }
   ],
   "source": [
    "minA = A.min()\n",
    "maxA = A.max()\n",
    "print(\"min element fo the array A: \", minA)\n",
    "print(\"min element fo the array A: \", maxA)"
   ]
  },
  {
   "cell_type": "code",
   "execution_count": 270,
   "id": "d92a1bae-8e34-4f5d-9d38-5ed126bf2c80",
   "metadata": {},
   "outputs": [
    {
     "name": "stdout",
     "output_type": "stream",
     "text": [
      "[-10  -8 -10  -9 -10  -1  -5 -10 -10  -9] \n",
      " [8 6 6 9 2 6 7 8 8 5]\n"
     ]
    }
   ],
   "source": [
    "minA_column = np.min(A, axis = 0)\n",
    "maxA_column = np.max(A, axis = 0)\n",
    "print(minA_column,\"\\n\",maxA_column)"
   ]
  },
  {
   "cell_type": "code",
   "execution_count": 271,
   "id": "dbe8e1c3-ce22-4ad5-b56c-c19be6fa1aaa",
   "metadata": {},
   "outputs": [
    {
     "name": "stdout",
     "output_type": "stream",
     "text": [
      "column:  1 min_el:  -10\n",
      "column:  2 min_el:  -8\n",
      "column:  3 min_el:  -10\n",
      "column:  4 min_el:  -9\n",
      "column:  5 min_el:  -10\n",
      "column:  6 min_el:  -1\n",
      "column:  7 min_el:  -5\n",
      "column:  8 min_el:  -10\n",
      "column:  9 min_el:  -10\n",
      "column:  10 min_el:  -9\n"
     ]
    }
   ],
   "source": [
    "for el in range(minA_column.shape[0]): \n",
    "    print(\"column: \", el+1, \"min_el: \", minA_column[el])"
   ]
  },
  {
   "cell_type": "code",
   "execution_count": 272,
   "id": "5b781d42-8453-4ff5-8ac8-46baecd9c02b",
   "metadata": {},
   "outputs": [
    {
     "name": "stdout",
     "output_type": "stream",
     "text": [
      "column:  1 max_el:  8\n",
      "column:  2 max_el:  6\n",
      "column:  3 max_el:  6\n",
      "column:  4 max_el:  9\n",
      "column:  5 max_el:  2\n",
      "column:  6 max_el:  6\n",
      "column:  7 max_el:  7\n",
      "column:  8 max_el:  8\n",
      "column:  9 max_el:  8\n",
      "column:  10 max_el:  5\n"
     ]
    }
   ],
   "source": [
    "for el in range(maxA_column.shape[0]):\n",
    "    print(\"column: \", el+1, \"max_el: \", maxA_column[el])"
   ]
  },
  {
   "attachments": {
    "87261438-1690-4073-9586-12eac01bbbe7.png": {
     "image/png": "[encoded data removed]"
    }
   },
   "cell_type": "markdown",
   "id": "01335f07-7a78-4331-815c-3fb5725378df",
   "metadata": {},
   "source": [
    "### 10. Задати два вектори однакової розмiрностi i розрахувати значення евклiдової вiдстанi мiж ними за формулою: ![image.png](attachment:87261438-1690-4073-9586-12eac01bbbe7.png)"
   ]
  },
  {
   "cell_type": "code",
   "execution_count": 305,
   "id": "0debbc91-1625-4aa8-bb29-9dffa1907d37",
   "metadata": {},
   "outputs": [
    {
     "data": {
      "text/plain": [
       "array([1, 1, 1, 0, 0], dtype=int32)"
      ]
     },
     "execution_count": 305,
     "metadata": {},
     "output_type": "execute_result"
    }
   ],
   "source": [
    "x1 = np.random.randint(0,2, size = (5))\n",
    "x1"
   ]
  },
  {
   "cell_type": "code",
   "execution_count": 306,
   "id": "09184500-a873-45fb-8b64-fa100471799f",
   "metadata": {},
   "outputs": [
    {
     "data": {
      "text/plain": [
       "array([3, 0, 1, 1, 1], dtype=int32)"
      ]
     },
     "execution_count": 306,
     "metadata": {},
     "output_type": "execute_result"
    }
   ],
   "source": [
    "x2 = np.random.randint(0,4,size = (5))\n",
    "x2"
   ]
  },
  {
   "cell_type": "code",
   "execution_count": 309,
   "id": "9b6dda0f-85ae-4972-90ff-2c0486646924",
   "metadata": {},
   "outputs": [
    {
     "name": "stdout",
     "output_type": "stream",
     "text": [
      "2.6457513110645907\n"
     ]
    }
   ],
   "source": [
    "d = np.sqrt(np.sum((x1 - x2)**2))\n",
    "print(d)"
   ]
  },
  {
   "cell_type": "code",
   "execution_count": 320,
   "id": "a104a9e4-80d6-4738-8c57-7481551d4507",
   "metadata": {},
   "outputs": [
    {
     "name": "stdout",
     "output_type": "stream",
     "text": [
      "2.6457513110645907\n"
     ]
    }
   ],
   "source": [
    "import scipy\n",
    "from scipy.spatial.distance import euclidean\n",
    "dist = euclidean(x1,x2)\n",
    "print(dist)"
   ]
  },
  {
   "cell_type": "markdown",
   "id": "98f74f42-6209-4413-8a28-96e75382213d",
   "metadata": {},
   "source": [
    "### 11. Задати двовимiрний масив. Порахувати скiльки значень, якi бiльшi 20, мiститься в кожному стовпчику цього масиву."
   ]
  },
  {
   "cell_type": "code",
   "execution_count": 325,
   "id": "ac570ced-7909-424a-a756-687c74d42b03",
   "metadata": {},
   "outputs": [
    {
     "data": {
      "text/plain": [
       "array([[-29,  69, -84,  -9, -43],\n",
       "       [ 74,   1,  48, -66,   1],\n",
       "       [-85, -97, -96,  71,  94],\n",
       "       [-17, -33,  16,  93,  98],\n",
       "       [-84,  53,  49,  13,  66]], dtype=int32)"
      ]
     },
     "execution_count": 325,
     "metadata": {},
     "output_type": "execute_result"
    }
   ],
   "source": [
    "data11 = np.random.randint(-100, 100, size = (5,5))\n",
    "data11"
   ]
  },
  {
   "cell_type": "code",
   "execution_count": 330,
   "id": "90cf8333-b3ae-4550-9e23-c88299f6480a",
   "metadata": {},
   "outputs": [
    {
     "data": {
      "text/plain": [
       "array([1, 2, 2, 2, 3])"
      ]
     },
     "execution_count": 330,
     "metadata": {},
     "output_type": "execute_result"
    }
   ],
   "source": [
    "count = np.sum(data11>20, axis = 0)\n",
    "count"
   ]
  },
  {
   "cell_type": "code",
   "execution_count": 338,
   "id": "572f51e9-8c42-40f6-9be6-3f7525a5758d",
   "metadata": {},
   "outputs": [
    {
     "name": "stdout",
     "output_type": "stream",
     "text": [
      "1  column there are:  1\n",
      "2  column there are:  2\n",
      "3  column there are:  2\n",
      "4  column there are:  2\n",
      "5  column there are:  3\n"
     ]
    }
   ],
   "source": [
    "for el in range(count.shape[0]):\n",
    " print(el+1,\" column there are: \", count[el])"
   ]
  },
  {
   "cell_type": "markdown",
   "id": "f0f85253-0670-44e8-bd26-22271a8879d0",
   "metadata": {},
   "source": [
    "### 12. Задати масив розмiрностi 9 x 4. Розрахувати: - добуток всiх елементiв масиву, - добуток елементiв кожного рядка."
   ]
  },
  {
   "cell_type": "code",
   "execution_count": 341,
   "id": "caa82c4d-96fc-4bdc-813e-952541ee61cb",
   "metadata": {},
   "outputs": [
    {
     "data": {
      "text/plain": [
       "array([[1, 1, 2, 2],\n",
       "       [2, 1, 1, 1],\n",
       "       [2, 1, 1, 2],\n",
       "       [2, 2, 1, 2],\n",
       "       [2, 2, 2, 1],\n",
       "       [2, 2, 1, 2],\n",
       "       [1, 2, 1, 1],\n",
       "       [1, 1, 2, 2],\n",
       "       [1, 2, 1, 2]], dtype=int32)"
      ]
     },
     "execution_count": 341,
     "metadata": {},
     "output_type": "execute_result"
    }
   ],
   "source": [
    "data12 = np.random.randint(1,3, size = (9,4))\n",
    "data12"
   ]
  },
  {
   "cell_type": "code",
   "execution_count": 345,
   "id": "f295b850-f177-450f-b981-dc9dd4f7e9ab",
   "metadata": {},
   "outputs": [
    {
     "name": "stdout",
     "output_type": "stream",
     "text": [
      "524288\n",
      "[4 2 4 8 8 8 2 4 4]\n"
     ]
    }
   ],
   "source": [
    "mul_all = np.prod(data12)\n",
    "mul_rows = np.prod(data12, axis = 1)\n",
    "print(mul_all)\n",
    "print(mul_rows)"
   ]
  },
  {
   "cell_type": "markdown",
   "id": "273fe031-7f3a-4295-91c3-4c65c5d55def",
   "metadata": {},
   "source": [
    "### 13. Вибрати елементи одновимiрного масиву у зворотньому напрямку."
   ]
  },
  {
   "cell_type": "code",
   "execution_count": 360,
   "id": "896926c3-8db4-4340-9793-fe4f82b7ddbb",
   "metadata": {},
   "outputs": [
    {
     "data": {
      "text/plain": [
       "array([ 1,  2,  3,  4,  5,  6,  7,  8,  9, 10])"
      ]
     },
     "execution_count": 360,
     "metadata": {},
     "output_type": "execute_result"
    }
   ],
   "source": [
    "data13 = np.array([1,2,3,4,5,6,7,8,9,10])\n",
    "data13"
   ]
  },
  {
   "cell_type": "code",
   "execution_count": 361,
   "id": "94ba9cd1-d668-495e-b721-c573c01d36e1",
   "metadata": {},
   "outputs": [
    {
     "data": {
      "text/plain": [
       "array([10,  9,  8,  7,  6,  5,  4,  3,  2,  1])"
      ]
     },
     "execution_count": 361,
     "metadata": {},
     "output_type": "execute_result"
    }
   ],
   "source": [
    "arr = data13[::-1]\n",
    "arr"
   ]
  },
  {
   "cell_type": "markdown",
   "id": "2f6699a3-e9d8-4410-998c-db114d0a5db5",
   "metadata": {},
   "source": [
    "### 14. Навести приклади роботи numpy.newaxis."
   ]
  },
  {
   "cell_type": "code",
   "execution_count": 362,
   "id": "ef0c2ee1-8588-47ed-bdba-fc9ce43818bf",
   "metadata": {},
   "outputs": [
    {
     "data": {
      "text/plain": [
       "array([ 1,  2,  3,  4,  5,  6,  7,  8,  9, 10])"
      ]
     },
     "execution_count": 362,
     "metadata": {},
     "output_type": "execute_result"
    }
   ],
   "source": [
    "data14 = np.array([1,2,3,4,5,6,7,8,9,10])\n",
    "data14"
   ]
  },
  {
   "cell_type": "code",
   "execution_count": 363,
   "id": "572ec4cd-8578-4156-aab2-64917b42140d",
   "metadata": {},
   "outputs": [
    {
     "data": {
      "text/plain": [
       "array([[ 1,  2,  3,  4,  5,  6,  7,  8,  9, 10]])"
      ]
     },
     "execution_count": 363,
     "metadata": {},
     "output_type": "execute_result"
    }
   ],
   "source": [
    "data14[np.newaxis, :]"
   ]
  },
  {
   "cell_type": "code",
   "execution_count": 364,
   "id": "0bbe17f8-a4ac-4352-b060-535e22624457",
   "metadata": {},
   "outputs": [
    {
     "data": {
      "text/plain": [
       "array([[ 1],\n",
       "       [ 2],\n",
       "       [ 3],\n",
       "       [ 4],\n",
       "       [ 5],\n",
       "       [ 6],\n",
       "       [ 7],\n",
       "       [ 8],\n",
       "       [ 9],\n",
       "       [10]])"
      ]
     },
     "execution_count": 364,
     "metadata": {},
     "output_type": "execute_result"
    }
   ],
   "source": [
    "data14[ :, np.newaxis]"
   ]
  },
  {
   "attachments": {
    "c64d173f-3d6e-4a87-8e64-f2abd08b8852.png": {
     "image/png": "[encoded data removed]"
    }
   },
   "cell_type": "markdown",
   "id": "91a848c8-a418-4c75-bf1b-8e2632c16bc4",
   "metadata": {},
   "source": [
    "### 15. Задати два вектори однакової розмiрностi i розрахувати значення вiд-станi Хемiнга мiж ними за формулою: ![image.png](attachment:c64d173f-3d6e-4a87-8e64-f2abd08b8852.png)"
   ]
  },
  {
   "cell_type": "code",
   "execution_count": 387,
   "id": "c5354e5b-7df6-4671-903e-98d6caaf677d",
   "metadata": {},
   "outputs": [
    {
     "data": {
      "text/plain": [
       "array([-3, -4,  4, -1, -4], dtype=int32)"
      ]
     },
     "execution_count": 387,
     "metadata": {},
     "output_type": "execute_result"
    }
   ],
   "source": [
    "X1 = np.random.randint(-5,5, size = (5))\n",
    "X1"
   ]
  },
  {
   "cell_type": "code",
   "execution_count": 388,
   "id": "22a97f40-9193-47df-8f2b-a43b1322f6cd",
   "metadata": {},
   "outputs": [
    {
     "data": {
      "text/plain": [
       "array([ 0, -1,  0,  0, -1], dtype=int32)"
      ]
     },
     "execution_count": 388,
     "metadata": {},
     "output_type": "execute_result"
    }
   ],
   "source": [
    "X2 = np.random.randint(-2,2, size = (5))\n",
    "X2"
   ]
  },
  {
   "cell_type": "code",
   "execution_count": 389,
   "id": "80a5fb1c-5d73-4668-addd-fe1b7d82e53e",
   "metadata": {},
   "outputs": [
    {
     "name": "stdout",
     "output_type": "stream",
     "text": [
      "14\n"
     ]
    }
   ],
   "source": [
    "D = np.sum(np.abs(X1 - X2))\n",
    "print(D)"
   ]
  },
  {
   "cell_type": "markdown",
   "id": "087465c4-3cb4-4394-85c0-2c68e31804ca",
   "metadata": {},
   "source": [
    "#### 16. Задати одновимiрний масив. Перевiрити чи є в цьому масивi значення, що перевищують число 10."
   ]
  },
  {
   "cell_type": "code",
   "execution_count": 384,
   "id": "fa30ae12-39f3-4ecb-b697-e466e4c30cb4",
   "metadata": {},
   "outputs": [
    {
     "data": {
      "text/plain": [
       "array([-49,   6,  17,  26,   9], dtype=int32)"
      ]
     },
     "execution_count": 384,
     "metadata": {},
     "output_type": "execute_result"
    }
   ],
   "source": [
    "data16 = np.random.randint(-50,50, size = (5))\n",
    "data16"
   ]
  },
  {
   "cell_type": "code",
   "execution_count": 392,
   "id": "17f1ffc2-f848-40ad-8321-56031f291597",
   "metadata": {},
   "outputs": [
    {
     "name": "stdout",
     "output_type": "stream",
     "text": [
      "True\n"
     ]
    }
   ],
   "source": [
    "is_any = np.any(data16 > 10)\n",
    "print(is_any)"
   ]
  },
  {
   "cell_type": "markdown",
   "id": "51478dbb-8ffc-4bab-9956-02b110ae9d8e",
   "metadata": {},
   "source": [
    "#### 17. Задати масив розмiрностi 10 x 3. Перевiрити, чи iснують елементи масиву зi значенням true.\n",
    "( чи немає значень = 0 )"
   ]
  },
  {
   "cell_type": "code",
   "execution_count": 472,
   "id": "9330bc14-b1f2-483a-8db0-edaf6bcee6d1",
   "metadata": {},
   "outputs": [
    {
     "data": {
      "text/plain": [
       "array([[ -1, -10,  -2],\n",
       "       [  9,  -8,   3],\n",
       "       [-10,  -3,  -5],\n",
       "       [-10,   3,  -7],\n",
       "       [ -9,   8,  -9],\n",
       "       [  7,   3,   5],\n",
       "       [-10,  -7,  -8],\n",
       "       [  0,  -5,   8],\n",
       "       [  2,  -1,   2],\n",
       "       [  1,  -8,   0]], dtype=int32)"
      ]
     },
     "execution_count": 472,
     "metadata": {},
     "output_type": "execute_result"
    }
   ],
   "source": [
    "data17 = np.random.randint(-10,10, size = (10, 3))\n",
    "data17"
   ]
  },
  {
   "cell_type": "code",
   "execution_count": 473,
   "id": "e32498f9-cce2-4bb3-b3f9-146bfd580f5a",
   "metadata": {},
   "outputs": [
    {
     "name": "stdout",
     "output_type": "stream",
     "text": [
      "True\n"
     ]
    }
   ],
   "source": [
    "print( data17.any() )"
   ]
  },
  {
   "cell_type": "markdown",
   "id": "5fd5bb09-372e-4b7c-a6e0-eac853796c93",
   "metadata": {},
   "source": [
    "#### 18. Як виконати сортування масивiв з використанням np.sort ?"
   ]
  },
  {
   "cell_type": "code",
   "execution_count": 419,
   "id": "e0ab25cb-9c10-43bd-a0d8-ce20072e5693",
   "metadata": {},
   "outputs": [
    {
     "data": {
      "text/plain": [
       "array([  5,  45, -16,  12,   7], dtype=int32)"
      ]
     },
     "execution_count": 419,
     "metadata": {},
     "output_type": "execute_result"
    }
   ],
   "source": [
    "data18 = np.random.randint(-50,50, size = (5))\n",
    "data18"
   ]
  },
  {
   "cell_type": "code",
   "execution_count": 423,
   "id": "bf5f5d15-fdf6-414a-860e-a9973ab89d23",
   "metadata": {},
   "outputs": [
    {
     "data": {
      "text/plain": [
       "array([-16,   5,   7,  12,  45], dtype=int32)"
      ]
     },
     "execution_count": 423,
     "metadata": {},
     "output_type": "execute_result"
    }
   ],
   "source": [
    "data18.sort()\n",
    "data18"
   ]
  },
  {
   "cell_type": "code",
   "execution_count": 424,
   "id": "b4cbe7b4-1f04-4b79-abaa-19112f33677b",
   "metadata": {},
   "outputs": [
    {
     "data": {
      "text/plain": [
       "array([-16,   5,   7,  12,  45], dtype=int32)"
      ]
     },
     "execution_count": 424,
     "metadata": {},
     "output_type": "execute_result"
    }
   ],
   "source": [
    "data18_sorted = np.sort(data18)\n",
    "data18_sorted"
   ]
  },
  {
   "cell_type": "markdown",
   "id": "02130ab5-1270-4da1-9243-0877e708e099",
   "metadata": {},
   "source": [
    "#### 19. Знайти мiнiмальний i максимальний елементи в кожному стовпчику багатовимiрного масиву."
   ]
  },
  {
   "cell_type": "code",
   "execution_count": 428,
   "id": "2f9fa721-9858-463f-ac39-70bbb9f08d93",
   "metadata": {},
   "outputs": [
    {
     "data": {
      "text/plain": [
       "array([[-14,  47,  -7,  11,  23, -20,   1],\n",
       "       [ 35,  20,   5,  -1,  45, -43, -39],\n",
       "       [ 48, -49,  31,  20,  26,  -3, -22],\n",
       "       [ 47,  41, -44,  -2,  31, -39,   4],\n",
       "       [ 48, -30,  24,  -4,  26, -37,  19],\n",
       "       [ 22,  45, -21,  28,  34, -35,  13],\n",
       "       [ 10, -22, -35,  45,  33,  43,   2]], dtype=int32)"
      ]
     },
     "execution_count": 428,
     "metadata": {},
     "output_type": "execute_result"
    }
   ],
   "source": [
    "data19 = np.random.randint(-50,50, size = (7,7))\n",
    "data19"
   ]
  },
  {
   "cell_type": "code",
   "execution_count": 430,
   "id": "78cb5914-726f-44bb-b185-a0d045a2f7ef",
   "metadata": {},
   "outputs": [
    {
     "data": {
      "text/plain": [
       "array([-14, -49, -44,  -4,  23, -43, -39], dtype=int32)"
      ]
     },
     "execution_count": 430,
     "metadata": {},
     "output_type": "execute_result"
    }
   ],
   "source": [
    "min_el = data19.min(axis = 0)\n",
    "min_el"
   ]
  },
  {
   "cell_type": "code",
   "execution_count": 431,
   "id": "688b04b9-0f3d-476c-9a5d-6c4e30157d53",
   "metadata": {},
   "outputs": [
    {
     "data": {
      "text/plain": [
       "array([48, 47, 31, 45, 45, 43, 19], dtype=int32)"
      ]
     },
     "execution_count": 431,
     "metadata": {},
     "output_type": "execute_result"
    }
   ],
   "source": [
    "max_el = data19.max(axis = 0)\n",
    "max_el"
   ]
  },
  {
   "cell_type": "markdown",
   "id": "6ed62a6f-78c6-4a6d-b166-828ce2d3fdb6",
   "metadata": {},
   "source": [
    "#### 20. Навести приклади використання numpy.vstack i numpy.hstack."
   ]
  },
  {
   "cell_type": "code",
   "execution_count": 523,
   "id": "49ac2742-2f9b-4200-8cdc-65afe9090890",
   "metadata": {},
   "outputs": [
    {
     "name": "stdout",
     "output_type": "stream",
     "text": [
      "[1 2 3]\n",
      "[3 4]\n"
     ]
    },
    {
     "data": {
      "text/plain": [
       "array([1, 2, 3, 3, 4])"
      ]
     },
     "execution_count": 523,
     "metadata": {},
     "output_type": "execute_result"
    }
   ],
   "source": [
    "a = np.array([1,2,3])\n",
    "print(a)\n",
    "b = np.array([3,4])\n",
    "print(b)\n",
    "np.hstack((a,b))   # однакова кількість рядків (розмір по осі 0)"
   ]
  },
  {
   "cell_type": "code",
   "execution_count": 521,
   "id": "10789990-7d1a-4804-b678-789e3883fa77",
   "metadata": {},
   "outputs": [
    {
     "name": "stdout",
     "output_type": "stream",
     "text": [
      "[1 2 3]\n",
      "[3 4 5]\n"
     ]
    },
    {
     "data": {
      "text/plain": [
       "array([[1, 2, 3],\n",
       "       [3, 4, 5]])"
      ]
     },
     "execution_count": 521,
     "metadata": {},
     "output_type": "execute_result"
    }
   ],
   "source": [
    "a = np.array([1,2,3])\n",
    "print(a)\n",
    "b = np.array([3,4, 5])\n",
    "print(b)\n",
    "np.vstack((a,b))  # однакова кількість стовпчиків (розмір по осі 1)"
   ]
  },
  {
   "cell_type": "markdown",
   "id": "59a6e9ce-fd12-4d56-8ca2-4de8e3df9b1e",
   "metadata": {},
   "source": [
    "#### 21. Додати двовимiрний масив з одновимiрним, використовуючи транслювання broadcasting. Поетапно описати виконання цiєї операцiї (у текстовому коментарi)."
   ]
  },
  {
   "cell_type": "code",
   "execution_count": 529,
   "id": "155b4e7b-7789-4fe2-9fac-3bf356b9b5b5",
   "metadata": {},
   "outputs": [],
   "source": [
    "# Two dimensions are compatible (сумісні) when\n",
    "#  they are equal, or\n",
    "#  one of them is 1."
   ]
  },
  {
   "cell_type": "code",
   "execution_count": 533,
   "id": "fcd8d818-d9f7-4bf2-af69-909437db6b12",
   "metadata": {},
   "outputs": [
    {
     "name": "stdout",
     "output_type": "stream",
     "text": [
      "[[1 2 3]\n",
      " [4 5 6]\n",
      " [7 8 9]] (3, 3)\n"
     ]
    }
   ],
   "source": [
    "arr1 = np.array([[1, 2, 3], [4, 5, 6], [7, 8, 9]])\n",
    "print(arr1, np.shape(arr1))"
   ]
  },
  {
   "cell_type": "code",
   "execution_count": 534,
   "id": "9354f2eb-4c12-44b3-bcde-bf90a3e1b3a5",
   "metadata": {},
   "outputs": [
    {
     "name": "stdout",
     "output_type": "stream",
     "text": [
      "[10 20 30] (3,)\n"
     ]
    }
   ],
   "source": [
    "arr2 = np.array([10, 20, 30])\n",
    "print(arr2, np.shape(arr2))"
   ]
  },
  {
   "cell_type": "code",
   "execution_count": 537,
   "id": "4c5e2bfa-7e26-4857-9670-f99f2a1cb9f1",
   "metadata": {},
   "outputs": [
    {
     "data": {
      "text/plain": [
       "array([[11, 22, 33],\n",
       "       [14, 25, 36],\n",
       "       [17, 28, 39]])"
      ]
     },
     "execution_count": 537,
     "metadata": {},
     "output_type": "execute_result"
    }
   ],
   "source": [
    "result = arr1 + arr2\n",
    "result\n",
    "#[[ 1 + 10,  2 + 20,  3 + 30],\n",
    "# [ 4 + 10,  5 + 20,  6 + 30],\n",
    "# [ 7 + 10,  8 + 20,  9 + 30]]"
   ]
  },
  {
   "cell_type": "markdown",
   "id": "7ee2e7d5-1575-40e1-ab54-b51c2dcbbaff",
   "metadata": {},
   "source": [
    "#### 22. Як створити об’єкт Series засобами бiблiотеки Pandas?"
   ]
  },
  {
   "cell_type": "code",
   "execution_count": 450,
   "id": "7e27c6c8-d7d9-4b38-97dc-25c5dabc78da",
   "metadata": {},
   "outputs": [],
   "source": [
    "frame = np.array((1,2,3))"
   ]
  },
  {
   "cell_type": "code",
   "execution_count": 451,
   "id": "82957abc-9578-4246-a6b2-9c013ae8106b",
   "metadata": {},
   "outputs": [
    {
     "data": {
      "text/plain": [
       "0    1\n",
       "1    2\n",
       "2    3\n",
       "dtype: int64"
      ]
     },
     "execution_count": 451,
     "metadata": {},
     "output_type": "execute_result"
    }
   ],
   "source": [
    "data22 = pd.Series(frame)\n",
    "data22"
   ]
  },
  {
   "cell_type": "markdown",
   "id": "658e189f-ebb8-4fcf-9d31-5467a6bb0097",
   "metadata": {},
   "source": [
    "#### 23. Навести приклади роботи numpy.amin i numpy.amax."
   ]
  },
  {
   "cell_type": "code",
   "execution_count": 460,
   "id": "d0d7e4fb-210f-4755-b763-a137e9f0bedf",
   "metadata": {},
   "outputs": [
    {
     "data": {
      "text/plain": [
       "array([[ 7,  6],\n",
       "       [ 6, -3],\n",
       "       [-2,  9]], dtype=int32)"
      ]
     },
     "execution_count": 460,
     "metadata": {},
     "output_type": "execute_result"
    }
   ],
   "source": [
    "data23 = np.random.randint(-10,10, size = (3, 2))\n",
    "data23"
   ]
  },
  {
   "cell_type": "code",
   "execution_count": 461,
   "id": "63ef4abb-fdcc-45b7-ac57-86328b5e9d90",
   "metadata": {},
   "outputs": [
    {
     "name": "stdout",
     "output_type": "stream",
     "text": [
      "max of array:  9\n",
      "max of rows:  [7 6 9]\n",
      "max of columns:  [7 9]\n"
     ]
    }
   ],
   "source": [
    "print(\"max of array: \", np.amax(data23))  \n",
    "print(\"max of rows: \", np.amax(data23, axis = 1)) \n",
    "print(\"max of columns: \", np.amax(data23, axis = 0)) "
   ]
  },
  {
   "cell_type": "markdown",
   "id": "eacab218-c1de-4ac9-970c-f2939999630e",
   "metadata": {},
   "source": [
    "#### 24. Перевiрити, чи всi елементи заданого двовимiрного масиву мають значення true. \n",
    "( чи немає значень = 0 )"
   ]
  },
  {
   "cell_type": "code",
   "execution_count": 474,
   "id": "67995f67-5443-4d64-936d-3d248525b322",
   "metadata": {},
   "outputs": [
    {
     "data": {
      "text/plain": [
       "array([[-7,  1],\n",
       "       [-3,  3],\n",
       "       [-5, -5]], dtype=int32)"
      ]
     },
     "execution_count": 474,
     "metadata": {},
     "output_type": "execute_result"
    }
   ],
   "source": [
    "data24 = np.random.randint(-10,10, size = (3, 2))\n",
    "data24"
   ]
  },
  {
   "cell_type": "code",
   "execution_count": 476,
   "id": "a5754584-f7fd-46aa-8b6f-1f9275f39cdd",
   "metadata": {},
   "outputs": [
    {
     "name": "stdout",
     "output_type": "stream",
     "text": [
      "True\n"
     ]
    }
   ],
   "source": [
    "print(np.all(data24))     "
   ]
  },
  {
   "cell_type": "markdown",
   "id": "e8bb0430-90e4-4dc2-986e-f2ef2921f7ca",
   "metadata": {},
   "source": [
    "#### 25. Надрукувати перший стовпчик двовимiрного масиву."
   ]
  },
  {
   "cell_type": "code",
   "execution_count": 485,
   "id": "eadca654-67d6-4194-ba8d-580bcde44cd9",
   "metadata": {},
   "outputs": [
    {
     "name": "stdout",
     "output_type": "stream",
     "text": [
      "[[-4 -8]\n",
      " [-3 -7]\n",
      " [ 2  7]]\n",
      "\n",
      "first row of array:  [-4 -3  2]\n"
     ]
    }
   ],
   "source": [
    "data25 = np.random.randint(-10,10, size = (3, 2))\n",
    "print(data25)\n",
    "print(\"\\nfirst row of array: \", data25[:,0])"
   ]
  },
  {
   "cell_type": "markdown",
   "id": "935706b5-6b23-422c-8337-ed11caa73ce4",
   "metadata": {},
   "source": [
    "#### 26. Задати двовимiрний масив. Порахувати скiльки значень менших нуля мiститься в кожному стовпчику цього масиву."
   ]
  },
  {
   "cell_type": "code",
   "execution_count": 488,
   "id": "e5acad19-bc6d-41bb-a672-1a1ae10055e0",
   "metadata": {},
   "outputs": [
    {
     "data": {
      "text/plain": [
       "array([[-1, -9, -4,  1, -9,  9,  4],\n",
       "       [ 2, -9, -3, -9,  3, -8,  5],\n",
       "       [ 3, -6,  9,  5, -7, -4,  7]], dtype=int32)"
      ]
     },
     "execution_count": 488,
     "metadata": {},
     "output_type": "execute_result"
    }
   ],
   "source": [
    "data26 = np.random.randint(-10,10, size = (3, 7))\n",
    "data26"
   ]
  },
  {
   "cell_type": "code",
   "execution_count": 506,
   "id": "fd72d0da-8a12-4a65-8bcc-a4affa5a01dc",
   "metadata": {},
   "outputs": [
    {
     "data": {
      "text/plain": [
       "array([1, 3, 2, 1, 2, 2, 0])"
      ]
     },
     "execution_count": 506,
     "metadata": {},
     "output_type": "execute_result"
    }
   ],
   "source": [
    "sumc = np.sum(data26 < 0, axis = 0)\n",
    "sumc"
   ]
  },
  {
   "cell_type": "code",
   "execution_count": 509,
   "id": "10b76295-8358-4202-9684-5b2553cbc3ff",
   "metadata": {},
   "outputs": [
    {
     "data": {
      "text/plain": [
       "array([1, 3, 2, 1, 2, 2, 0])"
      ]
     },
     "execution_count": 509,
     "metadata": {},
     "output_type": "execute_result"
    }
   ],
   "source": [
    "count = np.count_nonzero(data26 < 0, axis = 0)\n",
    "count"
   ]
  }
 ],
 "metadata": {
  "kernelspec": {
   "display_name": "Python 3 (ipykernel)",
   "language": "python",
   "name": "python3"
  },
  "language_info": {
   "codemirror_mode": {
    "name": "ipython",
    "version": 3
   },
   "file_extension": ".py",
   "mimetype": "text/x-python",
   "name": "python",
   "nbconvert_exporter": "python",
   "pygments_lexer": "ipython3",
   "version": "3.12.6"
  }
 },
 "nbformat": 4,
 "nbformat_minor": 5
}
